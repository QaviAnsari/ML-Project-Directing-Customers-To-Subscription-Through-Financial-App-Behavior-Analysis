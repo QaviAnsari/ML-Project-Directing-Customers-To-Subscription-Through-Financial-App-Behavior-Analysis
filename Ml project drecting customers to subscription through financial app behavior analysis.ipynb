{
 "cells": [
  {
   "cell_type": "markdown",
   "id": "cca9d909",
   "metadata": {},
   "source": [
    "# Import essential libraries\n"
   ]
  },
  {
   "cell_type": "code",
   "execution_count": 104,
   "id": "553e0eae",
   "metadata": {},
   "outputs": [],
   "source": [
    "import numpy as np \n",
    "import pandas as pd \n",
    "import matplotlib.pyplot as plt\n",
    "import seaborn as sns\n",
    "from dateutil import parser #convert time in date time data type"
   ]
  },
  {
   "cell_type": "code",
   "execution_count": 105,
   "id": "9b234687",
   "metadata": {},
   "outputs": [],
   "source": [
    "finTech_appData=pd.read_csv(\"FineTech_appData.csv\")"
   ]
  },
  {
   "cell_type": "code",
   "execution_count": 106,
   "id": "60526f61",
   "metadata": {},
   "outputs": [
    {
     "data": {
      "text/plain": [
       "(50000, 12)"
      ]
     },
     "execution_count": 106,
     "metadata": {},
     "output_type": "execute_result"
    }
   ],
   "source": [
    "finTech_appData.shape"
   ]
  },
  {
   "cell_type": "code",
   "execution_count": 107,
   "id": "25c7e075",
   "metadata": {},
   "outputs": [
    {
     "data": {
      "text/html": [
       "<div>\n",
       "<style scoped>\n",
       "    .dataframe tbody tr th:only-of-type {\n",
       "        vertical-align: middle;\n",
       "    }\n",
       "\n",
       "    .dataframe tbody tr th {\n",
       "        vertical-align: top;\n",
       "    }\n",
       "\n",
       "    .dataframe thead th {\n",
       "        text-align: right;\n",
       "    }\n",
       "</style>\n",
       "<table border=\"1\" class=\"dataframe\">\n",
       "  <thead>\n",
       "    <tr style=\"text-align: right;\">\n",
       "      <th></th>\n",
       "      <th>user</th>\n",
       "      <th>first_open</th>\n",
       "      <th>dayofweek</th>\n",
       "      <th>hour</th>\n",
       "      <th>age</th>\n",
       "      <th>screen_list</th>\n",
       "      <th>numscreens</th>\n",
       "      <th>minigame</th>\n",
       "      <th>used_premium_feature</th>\n",
       "      <th>enrolled</th>\n",
       "      <th>enrolled_date</th>\n",
       "      <th>liked</th>\n",
       "    </tr>\n",
       "  </thead>\n",
       "  <tbody>\n",
       "    <tr>\n",
       "      <th>0</th>\n",
       "      <td>235136</td>\n",
       "      <td>2012-12-27 02:14:51.273</td>\n",
       "      <td>3</td>\n",
       "      <td>02:00:00</td>\n",
       "      <td>23</td>\n",
       "      <td>idscreen,joinscreen,Cycle,product_review,ScanP...</td>\n",
       "      <td>15</td>\n",
       "      <td>0</td>\n",
       "      <td>0</td>\n",
       "      <td>0</td>\n",
       "      <td>NaN</td>\n",
       "      <td>0</td>\n",
       "    </tr>\n",
       "    <tr>\n",
       "      <th>1</th>\n",
       "      <td>333588</td>\n",
       "      <td>2012-12-02 01:16:00.905</td>\n",
       "      <td>6</td>\n",
       "      <td>01:00:00</td>\n",
       "      <td>24</td>\n",
       "      <td>joinscreen,product_review,product_review2,Scan...</td>\n",
       "      <td>13</td>\n",
       "      <td>0</td>\n",
       "      <td>0</td>\n",
       "      <td>0</td>\n",
       "      <td>NaN</td>\n",
       "      <td>0</td>\n",
       "    </tr>\n",
       "    <tr>\n",
       "      <th>2</th>\n",
       "      <td>254414</td>\n",
       "      <td>2013-03-19 19:19:09.157</td>\n",
       "      <td>1</td>\n",
       "      <td>19:00:00</td>\n",
       "      <td>23</td>\n",
       "      <td>Splash,Cycle,Loan</td>\n",
       "      <td>3</td>\n",
       "      <td>0</td>\n",
       "      <td>1</td>\n",
       "      <td>0</td>\n",
       "      <td>NaN</td>\n",
       "      <td>1</td>\n",
       "    </tr>\n",
       "    <tr>\n",
       "      <th>3</th>\n",
       "      <td>234192</td>\n",
       "      <td>2013-07-05 16:08:46.354</td>\n",
       "      <td>4</td>\n",
       "      <td>16:00:00</td>\n",
       "      <td>28</td>\n",
       "      <td>product_review,Home,product_review,Loan3,Finan...</td>\n",
       "      <td>40</td>\n",
       "      <td>0</td>\n",
       "      <td>0</td>\n",
       "      <td>1</td>\n",
       "      <td>2013-07-05 16:11:49.513</td>\n",
       "      <td>0</td>\n",
       "    </tr>\n",
       "    <tr>\n",
       "      <th>4</th>\n",
       "      <td>51549</td>\n",
       "      <td>2013-02-26 18:50:48.661</td>\n",
       "      <td>1</td>\n",
       "      <td>18:00:00</td>\n",
       "      <td>31</td>\n",
       "      <td>idscreen,joinscreen,Cycle,Credit3Container,Sca...</td>\n",
       "      <td>32</td>\n",
       "      <td>0</td>\n",
       "      <td>0</td>\n",
       "      <td>1</td>\n",
       "      <td>2013-02-26 18:56:37.841</td>\n",
       "      <td>1</td>\n",
       "    </tr>\n",
       "  </tbody>\n",
       "</table>\n",
       "</div>"
      ],
      "text/plain": [
       "     user               first_open  dayofweek       hour  age  \\\n",
       "0  235136  2012-12-27 02:14:51.273          3   02:00:00   23   \n",
       "1  333588  2012-12-02 01:16:00.905          6   01:00:00   24   \n",
       "2  254414  2013-03-19 19:19:09.157          1   19:00:00   23   \n",
       "3  234192  2013-07-05 16:08:46.354          4   16:00:00   28   \n",
       "4   51549  2013-02-26 18:50:48.661          1   18:00:00   31   \n",
       "\n",
       "                                         screen_list  numscreens  minigame  \\\n",
       "0  idscreen,joinscreen,Cycle,product_review,ScanP...          15         0   \n",
       "1  joinscreen,product_review,product_review2,Scan...          13         0   \n",
       "2                                  Splash,Cycle,Loan           3         0   \n",
       "3  product_review,Home,product_review,Loan3,Finan...          40         0   \n",
       "4  idscreen,joinscreen,Cycle,Credit3Container,Sca...          32         0   \n",
       "\n",
       "   used_premium_feature  enrolled            enrolled_date  liked  \n",
       "0                     0         0                      NaN      0  \n",
       "1                     0         0                      NaN      0  \n",
       "2                     1         0                      NaN      1  \n",
       "3                     0         1  2013-07-05 16:11:49.513      0  \n",
       "4                     0         1  2013-02-26 18:56:37.841      1  "
      ]
     },
     "execution_count": 107,
     "metadata": {},
     "output_type": "execute_result"
    }
   ],
   "source": [
    "finTech_appData.head()"
   ]
  },
  {
   "cell_type": "code",
   "execution_count": 108,
   "id": "5446b517",
   "metadata": {},
   "outputs": [
    {
     "name": "stdout",
     "output_type": "stream",
     "text": [
      "joinscreen,product_review,product_review2,ScanPreview,VerifyDateOfBirth,location,VerifyCountry,VerifyPhone,VerifyToken,Institutions,Loan2 \n",
      "\n",
      "Splash,Cycle,Loan \n",
      "\n",
      "product_review,Home,product_review,Loan3,Finances,Credit3,ReferralContainer,Leaderboard,Rewards,RewardDetail,ScanPreview,location,VerifyDateOfBirth,VerifyPhone,VerifySSN,Credit1,Credit2 \n",
      "\n",
      "idscreen,joinscreen,Cycle,Credit3Container,ScanPreview,VerifyPhone,VerifySSN,Credit1,Loan2,Home,Institutions,SelectInstitution,BankVerification,ReferralContainer,product_review,product_review2,VerifyCountry,VerifyToken,product_review \n",
      "\n",
      "idscreen,Cycle,Home,ScanPreview,VerifyPhone,VerifySSN,Credit1,Credit3Dashboard,Loan2,Institutions,product_review,product_review,product_review3 \n",
      "\n"
     ]
    }
   ],
   "source": [
    "#printing screen_list coloumn full \n",
    "\n",
    "for i in [1,2,3,4,5,]:\n",
    "    print(finTech_appData.loc[i,'screen_list'],'\\n')"
   ]
  },
  {
   "cell_type": "code",
   "execution_count": 109,
   "id": "a85c6554",
   "metadata": {},
   "outputs": [],
   "source": [
    "#Now understand the whole dtaset  >user :unique id \n",
    "#first_open :date(yy-mm-dd) and time (hour:minute:sec:millisecond) \n",
    "#dayofweek:0-sunday,1-mon,2-tue,3-wed\n",
    "#hour:24 hour format\n",
    "#age:registerd user age\n",
    "#screen_list:name of no.of screens seen by customers \n",
    "#numscreens:total no.of screens seen by customers\n",
    "#minigame:the app contains games related to finance if cutomer play that game then 1 or else 0\n",
    "#used_premium_feature:if customer used the premium feature of app then 1 or else 0\n",
    "#enrolled:if user bought a premium feature app then 1 or else 0\n",
    "#enrolled_date: date (yy-mm--dd) and time (hour:minute:seconds:milliseconds) the user bought a premium features app\n",
    "#liked:the each screen of app has like button if the customer likes it then 1 or else 0\n"
   ]
  },
  {
   "cell_type": "code",
   "execution_count": 110,
   "id": "cd22cf8d",
   "metadata": {},
   "outputs": [
    {
     "data": {
      "text/plain": [
       "user                        0\n",
       "first_open                  0\n",
       "dayofweek                   0\n",
       "hour                        0\n",
       "age                         0\n",
       "screen_list                 0\n",
       "numscreens                  0\n",
       "minigame                    0\n",
       "used_premium_feature        0\n",
       "enrolled                    0\n",
       "enrolled_date           18926\n",
       "liked                       0\n",
       "dtype: int64"
      ]
     },
     "execution_count": 110,
     "metadata": {},
     "output_type": "execute_result"
    }
   ],
   "source": [
    "#finding the null value in dataset\n",
    "finTech_appData.isnull().sum()"
   ]
  },
  {
   "cell_type": "code",
   "execution_count": 111,
   "id": "8fda1fbc",
   "metadata": {},
   "outputs": [
    {
     "name": "stdout",
     "output_type": "stream",
     "text": [
      "<class 'pandas.core.frame.DataFrame'>\n",
      "RangeIndex: 50000 entries, 0 to 49999\n",
      "Data columns (total 12 columns):\n",
      " #   Column                Non-Null Count  Dtype \n",
      "---  ------                --------------  ----- \n",
      " 0   user                  50000 non-null  int64 \n",
      " 1   first_open            50000 non-null  object\n",
      " 2   dayofweek             50000 non-null  int64 \n",
      " 3   hour                  50000 non-null  object\n",
      " 4   age                   50000 non-null  int64 \n",
      " 5   screen_list           50000 non-null  object\n",
      " 6   numscreens            50000 non-null  int64 \n",
      " 7   minigame              50000 non-null  int64 \n",
      " 8   used_premium_feature  50000 non-null  int64 \n",
      " 9   enrolled              50000 non-null  int64 \n",
      " 10  enrolled_date         31074 non-null  object\n",
      " 11  liked                 50000 non-null  int64 \n",
      "dtypes: int64(8), object(4)\n",
      "memory usage: 4.6+ MB\n"
     ]
    }
   ],
   "source": [
    "finTech_appData.info()"
   ]
  },
  {
   "cell_type": "code",
   "execution_count": 112,
   "id": "d78d3f78",
   "metadata": {},
   "outputs": [
    {
     "data": {
      "text/html": [
       "<div>\n",
       "<style scoped>\n",
       "    .dataframe tbody tr th:only-of-type {\n",
       "        vertical-align: middle;\n",
       "    }\n",
       "\n",
       "    .dataframe tbody tr th {\n",
       "        vertical-align: top;\n",
       "    }\n",
       "\n",
       "    .dataframe thead th {\n",
       "        text-align: right;\n",
       "    }\n",
       "</style>\n",
       "<table border=\"1\" class=\"dataframe\">\n",
       "  <thead>\n",
       "    <tr style=\"text-align: right;\">\n",
       "      <th></th>\n",
       "      <th>user</th>\n",
       "      <th>dayofweek</th>\n",
       "      <th>age</th>\n",
       "      <th>numscreens</th>\n",
       "      <th>minigame</th>\n",
       "      <th>used_premium_feature</th>\n",
       "      <th>enrolled</th>\n",
       "      <th>liked</th>\n",
       "    </tr>\n",
       "  </thead>\n",
       "  <tbody>\n",
       "    <tr>\n",
       "      <th>count</th>\n",
       "      <td>50000.000000</td>\n",
       "      <td>50000.000000</td>\n",
       "      <td>50000.00000</td>\n",
       "      <td>50000.000000</td>\n",
       "      <td>50000.000000</td>\n",
       "      <td>50000.000000</td>\n",
       "      <td>50000.000000</td>\n",
       "      <td>50000.000000</td>\n",
       "    </tr>\n",
       "    <tr>\n",
       "      <th>mean</th>\n",
       "      <td>186889.729900</td>\n",
       "      <td>3.029860</td>\n",
       "      <td>31.72436</td>\n",
       "      <td>21.095900</td>\n",
       "      <td>0.107820</td>\n",
       "      <td>0.172020</td>\n",
       "      <td>0.621480</td>\n",
       "      <td>0.165000</td>\n",
       "    </tr>\n",
       "    <tr>\n",
       "      <th>std</th>\n",
       "      <td>107768.520361</td>\n",
       "      <td>2.031997</td>\n",
       "      <td>10.80331</td>\n",
       "      <td>15.728812</td>\n",
       "      <td>0.310156</td>\n",
       "      <td>0.377402</td>\n",
       "      <td>0.485023</td>\n",
       "      <td>0.371184</td>\n",
       "    </tr>\n",
       "    <tr>\n",
       "      <th>min</th>\n",
       "      <td>13.000000</td>\n",
       "      <td>0.000000</td>\n",
       "      <td>16.00000</td>\n",
       "      <td>1.000000</td>\n",
       "      <td>0.000000</td>\n",
       "      <td>0.000000</td>\n",
       "      <td>0.000000</td>\n",
       "      <td>0.000000</td>\n",
       "    </tr>\n",
       "    <tr>\n",
       "      <th>25%</th>\n",
       "      <td>93526.750000</td>\n",
       "      <td>1.000000</td>\n",
       "      <td>24.00000</td>\n",
       "      <td>10.000000</td>\n",
       "      <td>0.000000</td>\n",
       "      <td>0.000000</td>\n",
       "      <td>0.000000</td>\n",
       "      <td>0.000000</td>\n",
       "    </tr>\n",
       "    <tr>\n",
       "      <th>50%</th>\n",
       "      <td>187193.500000</td>\n",
       "      <td>3.000000</td>\n",
       "      <td>29.00000</td>\n",
       "      <td>18.000000</td>\n",
       "      <td>0.000000</td>\n",
       "      <td>0.000000</td>\n",
       "      <td>1.000000</td>\n",
       "      <td>0.000000</td>\n",
       "    </tr>\n",
       "    <tr>\n",
       "      <th>75%</th>\n",
       "      <td>279984.250000</td>\n",
       "      <td>5.000000</td>\n",
       "      <td>37.00000</td>\n",
       "      <td>28.000000</td>\n",
       "      <td>0.000000</td>\n",
       "      <td>0.000000</td>\n",
       "      <td>1.000000</td>\n",
       "      <td>0.000000</td>\n",
       "    </tr>\n",
       "    <tr>\n",
       "      <th>max</th>\n",
       "      <td>373662.000000</td>\n",
       "      <td>6.000000</td>\n",
       "      <td>101.00000</td>\n",
       "      <td>325.000000</td>\n",
       "      <td>1.000000</td>\n",
       "      <td>1.000000</td>\n",
       "      <td>1.000000</td>\n",
       "      <td>1.000000</td>\n",
       "    </tr>\n",
       "  </tbody>\n",
       "</table>\n",
       "</div>"
      ],
      "text/plain": [
       "                user     dayofweek          age    numscreens      minigame  \\\n",
       "count   50000.000000  50000.000000  50000.00000  50000.000000  50000.000000   \n",
       "mean   186889.729900      3.029860     31.72436     21.095900      0.107820   \n",
       "std    107768.520361      2.031997     10.80331     15.728812      0.310156   \n",
       "min        13.000000      0.000000     16.00000      1.000000      0.000000   \n",
       "25%     93526.750000      1.000000     24.00000     10.000000      0.000000   \n",
       "50%    187193.500000      3.000000     29.00000     18.000000      0.000000   \n",
       "75%    279984.250000      5.000000     37.00000     28.000000      0.000000   \n",
       "max    373662.000000      6.000000    101.00000    325.000000      1.000000   \n",
       "\n",
       "       used_premium_feature      enrolled         liked  \n",
       "count          50000.000000  50000.000000  50000.000000  \n",
       "mean               0.172020      0.621480      0.165000  \n",
       "std                0.377402      0.485023      0.371184  \n",
       "min                0.000000      0.000000      0.000000  \n",
       "25%                0.000000      0.000000      0.000000  \n",
       "50%                0.000000      1.000000      0.000000  \n",
       "75%                0.000000      1.000000      0.000000  \n",
       "max                1.000000      1.000000      1.000000  "
      ]
     },
     "execution_count": 112,
     "metadata": {},
     "output_type": "execute_result"
    }
   ],
   "source": [
    "finTech_appData.describe()"
   ]
  },
  {
   "cell_type": "code",
   "execution_count": 113,
   "id": "eb10a5eb",
   "metadata": {},
   "outputs": [],
   "source": [
    "#From the output, we can know more about the dataset. \n",
    "#The mean age of the customer is 31.72. \n",
    "#Only 10.7% of customers played minigame and\n",
    "#17.2% customer used premium features of the app,\n",
    "#likes 16.5 %. \n",
    "#The 62.1% customer enrolled in the premium app"
   ]
  },
  {
   "cell_type": "code",
   "execution_count": 114,
   "id": "a835fc69",
   "metadata": {},
   "outputs": [
    {
     "name": "stdout",
     "output_type": "stream",
     "text": [
      "Unique value of user\n",
      "[235136 333588 254414 ... 302367 324905  27047]\n",
      "len is 49874 \n",
      "........................\n",
      "\n",
      "          \n",
      "Unique value of first_open\n",
      "['2012-12-27 02:14:51.273' '2012-12-02 01:16:00.905'\n",
      " '2013-03-19 19:19:09.157' ... '2013-02-20 22:41:51.165'\n",
      " '2013-04-28 12:33:04.288' '2012-12-14 01:22:44.638']\n",
      "len is 49747 \n",
      "........................\n",
      "\n",
      "          \n",
      "Unique value of dayofweek\n",
      "[3 6 1 4 2 0 5]\n",
      "len is 7 \n",
      "........................\n",
      "\n",
      "          \n",
      "Unique value of hour\n",
      "[' 02:00:00' ' 01:00:00' ' 19:00:00' ' 16:00:00' ' 18:00:00' ' 09:00:00'\n",
      " ' 03:00:00' ' 14:00:00' ' 04:00:00' ' 11:00:00' ' 06:00:00' ' 21:00:00'\n",
      " ' 05:00:00' ' 17:00:00' ' 20:00:00' ' 00:00:00' ' 22:00:00' ' 10:00:00'\n",
      " ' 08:00:00' ' 15:00:00' ' 13:00:00' ' 23:00:00' ' 12:00:00' ' 07:00:00']\n",
      "len is 24 \n",
      "........................\n",
      "\n",
      "          \n",
      "Unique value of age\n",
      "[ 23  24  28  31  20  35  26  29  39  32  25  17  21  55  38  27  48  37\n",
      "  22  36  30  58  40  33  57  19  45  34  46  56  42  43  41  47  18  53\n",
      "  44  49  60  50  52  62  63  16  54  70  51  69  68  59  76  75  66  61\n",
      "  72  65  90  64  67  73  77  71  74  89  78  86  80  82  79  87  81  85\n",
      " 101  88  83 100  84  98]\n",
      "len is 78 \n",
      "........................\n",
      "\n",
      "          \n",
      "Unique value of screen_list\n",
      "['idscreen,joinscreen,Cycle,product_review,ScanPreview,VerifyDateOfBirth,VerifyPhone,VerifyToken,ProfileVerifySSN,Loan2,Settings,ForgotPassword,Login'\n",
      " 'joinscreen,product_review,product_review2,ScanPreview,VerifyDateOfBirth,location,VerifyCountry,VerifyPhone,VerifyToken,Institutions,Loan2'\n",
      " 'Splash,Cycle,Loan' ...\n",
      " 'joinscreen,product_review,product_review2,ScanPreview,VerifyCountry,VerifyPhone,VerifyToken,VerifyDateOfBirth,location,Home'\n",
      " 'Cycle,Home,product_review,product_review,product_review3,ScanPreview,VerifyDateOfBirth,location,VerifyCountry,VerifyPhone,VerifyToken,product_review,product_review,VerifySSN,product_review,SelectInstitution,BankVerification,product_review,product_review'\n",
      " 'product_review,ScanPreview,VerifyDateOfBirth,VerifyCountry,ProfileVerifySSN,ProfilePage,ProfileEducation,ProfileEducationMajor,Saving2Amount,Saving8,ProfileMaritalStatus,ProfileChildren,Saving2,Saving9,Saving7,Saving6,Saving5,Home,Loan2']\n",
      "len is 38799 \n",
      "........................\n",
      "\n",
      "          \n",
      "Unique value of numscreens\n",
      "[ 15  13   3  40  32  14  41  33  19  25  11   4   9  26   6  20   5   8\n",
      "  42   1  38  49  35  10  52  50  76  37  16  47  90  24  45  31  39  17\n",
      "  28  27  57  23  21  12   7  18  48  29 136  34  59  89  22  43  36  56\n",
      "  30   2  44  92  51  70  58  66  46  55  61  75  71  78  85  62  53  54\n",
      "  73  68  69  63  64  88 106  80 127  74  72 137  83  77  65 104  60  67\n",
      "  94  81 110  91  82  96 165  79  86 116  99  98 187  84 111 109 107 162\n",
      "  97 100  95  87 122 216 115 102 128 234 112 108 114 125 119  93 185 192\n",
      " 189 153 243 103 101 118 325 141 129 133 126 120 123 134 121 105 113 117\n",
      " 200 247 179 132 144 130 148]\n",
      "len is 151 \n",
      "........................\n",
      "\n",
      "          \n",
      "Unique value of minigame\n",
      "[0 1]\n",
      "len is 2 \n",
      "........................\n",
      "\n",
      "          \n",
      "Unique value of used_premium_feature\n",
      "[0 1]\n",
      "len is 2 \n",
      "........................\n",
      "\n",
      "          \n",
      "Unique value of enrolled\n",
      "[0 1]\n",
      "len is 2 \n",
      "........................\n",
      "\n",
      "          \n",
      "Unique value of enrolled_date\n",
      "[nan '2013-07-05 16:11:49.513' '2013-02-26 18:56:37.841' ...\n",
      " '2013-02-25 19:36:56.082' '2013-05-09 13:47:52.875'\n",
      " '2013-04-28 12:35:38.709']\n",
      "len is 31002 \n",
      "........................\n",
      "\n",
      "          \n",
      "Unique value of liked\n",
      "[0 1]\n",
      "len is 2 \n",
      "........................\n",
      "\n",
      "          \n"
     ]
    }
   ],
   "source": [
    "features = finTech_appData.columns\n",
    "for i in features:\n",
    "    print(\"\"\"Unique value of {}\\n{}\\nlen is {} \\n........................\\n\n",
    "          \"\"\".format(i, finTech_appData[i].unique(), len(finTech_appData[i].unique())))\n"
   ]
  },
  {
   "cell_type": "code",
   "execution_count": null,
   "id": "da551f45",
   "metadata": {},
   "outputs": [],
   "source": [
    "\n"
   ]
  },
  {
   "cell_type": "code",
   "execution_count": null,
   "id": "18831981",
   "metadata": {},
   "outputs": [],
   "source": []
  },
  {
   "cell_type": "code",
   "execution_count": 115,
   "id": "ca92afc9",
   "metadata": {},
   "outputs": [
    {
     "data": {
      "text/plain": [
       "user                     int64\n",
       "first_open              object\n",
       "dayofweek                int64\n",
       "hour                     int32\n",
       "age                      int64\n",
       "screen_list             object\n",
       "numscreens               int64\n",
       "minigame                 int64\n",
       "used_premium_feature     int64\n",
       "enrolled                 int64\n",
       "enrolled_date           object\n",
       "liked                    int64\n",
       "dtype: object"
      ]
     },
     "execution_count": 115,
     "metadata": {},
     "output_type": "execute_result"
    }
   ],
   "source": [
    "#  hour data convert string to int>>>finTech_appData.hour.str.slice(1,3).astype(int)\n",
    "finTech_appData['hour'] = finTech_appData.hour.str.slice(1,3).astype(int) \n",
    "\n",
    "# get data type of each columns\n",
    "finTech_appData.dtypes"
   ]
  },
  {
   "cell_type": "code",
   "execution_count": 116,
   "id": "7787ca8c",
   "metadata": {},
   "outputs": [],
   "source": [
    "#To visualize the data need numeric values for that we drop some columns that datatype is the object."
   ]
  },
  {
   "cell_type": "code",
   "execution_count": 117,
   "id": "763e0b37",
   "metadata": {},
   "outputs": [
    {
     "data": {
      "text/html": [
       "<div>\n",
       "<style scoped>\n",
       "    .dataframe tbody tr th:only-of-type {\n",
       "        vertical-align: middle;\n",
       "    }\n",
       "\n",
       "    .dataframe tbody tr th {\n",
       "        vertical-align: top;\n",
       "    }\n",
       "\n",
       "    .dataframe thead th {\n",
       "        text-align: right;\n",
       "    }\n",
       "</style>\n",
       "<table border=\"1\" class=\"dataframe\">\n",
       "  <thead>\n",
       "    <tr style=\"text-align: right;\">\n",
       "      <th></th>\n",
       "      <th>dayofweek</th>\n",
       "      <th>hour</th>\n",
       "      <th>age</th>\n",
       "      <th>numscreens</th>\n",
       "      <th>minigame</th>\n",
       "      <th>used_premium_feature</th>\n",
       "      <th>enrolled</th>\n",
       "      <th>liked</th>\n",
       "    </tr>\n",
       "  </thead>\n",
       "  <tbody>\n",
       "    <tr>\n",
       "      <th>0</th>\n",
       "      <td>3</td>\n",
       "      <td>2</td>\n",
       "      <td>23</td>\n",
       "      <td>15</td>\n",
       "      <td>0</td>\n",
       "      <td>0</td>\n",
       "      <td>0</td>\n",
       "      <td>0</td>\n",
       "    </tr>\n",
       "    <tr>\n",
       "      <th>1</th>\n",
       "      <td>6</td>\n",
       "      <td>1</td>\n",
       "      <td>24</td>\n",
       "      <td>13</td>\n",
       "      <td>0</td>\n",
       "      <td>0</td>\n",
       "      <td>0</td>\n",
       "      <td>0</td>\n",
       "    </tr>\n",
       "    <tr>\n",
       "      <th>2</th>\n",
       "      <td>1</td>\n",
       "      <td>19</td>\n",
       "      <td>23</td>\n",
       "      <td>3</td>\n",
       "      <td>0</td>\n",
       "      <td>1</td>\n",
       "      <td>0</td>\n",
       "      <td>1</td>\n",
       "    </tr>\n",
       "    <tr>\n",
       "      <th>3</th>\n",
       "      <td>4</td>\n",
       "      <td>16</td>\n",
       "      <td>28</td>\n",
       "      <td>40</td>\n",
       "      <td>0</td>\n",
       "      <td>0</td>\n",
       "      <td>1</td>\n",
       "      <td>0</td>\n",
       "    </tr>\n",
       "    <tr>\n",
       "      <th>4</th>\n",
       "      <td>1</td>\n",
       "      <td>18</td>\n",
       "      <td>31</td>\n",
       "      <td>32</td>\n",
       "      <td>0</td>\n",
       "      <td>0</td>\n",
       "      <td>1</td>\n",
       "      <td>1</td>\n",
       "    </tr>\n",
       "    <tr>\n",
       "      <th>5</th>\n",
       "      <td>2</td>\n",
       "      <td>9</td>\n",
       "      <td>20</td>\n",
       "      <td>14</td>\n",
       "      <td>0</td>\n",
       "      <td>0</td>\n",
       "      <td>1</td>\n",
       "      <td>0</td>\n",
       "    </tr>\n",
       "  </tbody>\n",
       "</table>\n",
       "</div>"
      ],
      "text/plain": [
       "   dayofweek  hour  age  numscreens  minigame  used_premium_feature  enrolled  \\\n",
       "0          3     2   23          15         0                     0         0   \n",
       "1          6     1   24          13         0                     0         0   \n",
       "2          1    19   23           3         0                     1         0   \n",
       "3          4    16   28          40         0                     0         1   \n",
       "4          1    18   31          32         0                     0         1   \n",
       "5          2     9   20          14         0                     0         1   \n",
       "\n",
       "   liked  \n",
       "0      0  \n",
       "1      0  \n",
       "2      1  \n",
       "3      0  \n",
       "4      1  \n",
       "5      0  "
      ]
     },
     "execution_count": 117,
     "metadata": {},
     "output_type": "execute_result"
    }
   ],
   "source": [
    "finTech_appData2 = finTech_appData.drop([ 'user','first_open', 'screen_list', 'enrolled_date'], axis = 1)\n",
    "finTech_appData2.head(6)"
   ]
  },
  {
   "cell_type": "markdown",
   "id": "99e52bb9",
   "metadata": {},
   "source": [
    "# Data Visualization  "
   ]
  },
  {
   "cell_type": "code",
   "execution_count": null,
   "id": "bbc9a7e4",
   "metadata": {},
   "outputs": [],
   "source": []
  },
  {
   "cell_type": "code",
   "execution_count": null,
   "id": "8e8308c3",
   "metadata": {},
   "outputs": [],
   "source": []
  },
  {
   "cell_type": "markdown",
   "id": "489b5357",
   "metadata": {},
   "source": [
    "Data visualization\n",
    "#heatmap uses find the correlation btw each and every features using the correlation matrix "
   ]
  },
  {
   "cell_type": "code",
   "execution_count": 118,
   "id": "2424559a",
   "metadata": {
    "scrolled": true
   },
   "outputs": [
    {
     "data": {
      "text/plain": [
       "Text(0.5, 1.0, 'Heatmap using correlation matrix of fineTech_appData2')"
      ]
     },
     "execution_count": 118,
     "metadata": {},
     "output_type": "execute_result"
    },
    {
     "data": {
      "image/png": "[encoded data removed]",
      "text/plain": [
       "<Figure size 1800x500 with 2 Axes>"
      ]
     },
     "metadata": {},
     "output_type": "display_data"
    }
   ],
   "source": [
    "plt.figure(figsize=(18,5))\n",
    "sns.heatmap(finTech_appData2.corr(),annot=True,cmap='coolwarm')\n",
    "plt.title(\"Heatmap using correlation matrix of fineTech_appData2\", fontsize = 19) \n",
    "# title of heatmap\n"
   ]
  },
  {
   "cell_type": "markdown",
   "id": "83e9084f",
   "metadata": {},
   "source": [
    "# pairplot  "
   ]
  },
  {
   "cell_type": "code",
   "execution_count": null,
   "id": "2cc8bfcd",
   "metadata": {},
   "outputs": [],
   "source": []
  },
  {
   "cell_type": "markdown",
   "id": "50fc81c8",
   "metadata": {},
   "source": [
    "This illustrate that there is a correlation between 'numscreens' and 'enrolled' this means those customers watch more screen they are taking premium app.\n",
    "and \n",
    "There is a slight correlation between 'minigame \" with 'enrolled 'and 'used_premium_feature'.\n",
    "The slightly negative correlation between 'age' with 'enrolled'and 'numscreens''"
   ]
  },
  {
   "cell_type": "code",
   "execution_count": null,
   "id": "6bf59246",
   "metadata": {
    "scrolled": true
   },
   "outputs": [],
   "source": [
    "\n",
    "# Pailplot of fineTech_appData2 Dataset\n",
    " \n",
    "#%matplotlib qt5 # for show graph in seperate window\n",
    "sns.pairplot(finTech_appData2, hue  = 'enrolled')"
   ]
  },
  {
   "cell_type": "markdown",
   "id": "753b4fc1",
   "metadata": {},
   "source": [
    "In pair plot we can,see the maximum features have two values like 0 and 1 and orange dots show the enrolled customers features. so we visualize the c ounterplot of enrolled data"
   ]
  },
  {
   "cell_type": "markdown",
   "id": "5c5ba6ba",
   "metadata": {},
   "source": [
    "# Countplot of enrolled"
   ]
  },
  {
   "cell_type": "code",
   "execution_count": 126,
   "id": "37fcb236",
   "metadata": {},
   "outputs": [
    {
     "data": {
      "text/plain": [
       "<AxesSubplot:xlabel='enrolled', ylabel='count'>"
      ]
     },
     "execution_count": 126,
     "metadata": {},
     "output_type": "execute_result"
    },
    {
     "data": {
      "image/png": "[encoded data removed]",
      "text/plain": [
       "<Figure size 640x480 with 1 Axes>"
      ]
     },
     "metadata": {},
     "output_type": "display_data"
    }
   ],
   "source": [
    "sns.countplot(finTech_appData.enrolled)"
   ]
  },
  {
   "cell_type": "code",
   "execution_count": 121,
   "id": "fc6faa76",
   "metadata": {
    "scrolled": true
   },
   "outputs": [
    {
     "name": "stdout",
     "output_type": "stream",
     "text": [
      "Not enrolled user =  18926 out of 50000\n",
      "Enrolled user =  31074 out of 50000\n"
     ]
    }
   ],
   "source": [
    "# value enrolled and not enrolled customers\n",
    "print(\"Not enrolled user = \", (finTech_appData.enrolled < 1).sum(), \"out of 50000\")\n",
    "print(\"Enrolled user = \",50000-(finTech_appData.enrolled < 1).sum(),  \"out of 50000\")"
   ]
  },
  {
   "cell_type": "markdown",
   "id": "bc971e77",
   "metadata": {},
   "source": [
    "\n",
    "# Histogram\n"
   ]
  },
  {
   "cell_type": "markdown",
   "id": "8db92027",
   "metadata": {},
   "source": [
    "Histogram of each feature of finTech_appData2\n"
   ]
  },
  {
   "cell_type": "code",
   "execution_count": null,
   "id": "f728c4d6",
   "metadata": {},
   "outputs": [],
   "source": []
  },
  {
   "cell_type": "code",
   "execution_count": 122,
   "id": "93263f86",
   "metadata": {},
   "outputs": [
    {
     "data": {
      "image/png": "[encoded data removed]",
      "text/plain": [
       "<Figure size 1500x800 with 8 Axes>"
      ]
     },
     "metadata": {},
     "output_type": "display_data"
    }
   ],
   "source": [
    "plt.figure(figsize=(15,8))\n",
    "\n",
    "features=finTech_appData2.columns\n",
    "\n",
    "for i,j in enumerate(features):\n",
    "    plt.subplot(3,3,i+1)\n",
    "    plt.title(\"histogram of {}\".format(j),fontsize=11)\n",
    "    bins=len(finTech_appData2[j].unique()  )\n",
    "    plt.hist(  finTech_appData2[j],  bins=bins , rwidth=0.9,  edgecolor='r',  linewidth=2,  )\n",
    "plt.subplots_adjust(hspace=0.5)"
   ]
  },
  {
   "cell_type": "markdown",
   "id": "31a60a72",
   "metadata": {},
   "source": [
    "In above histogram we can observe minigame ,used_premium_feature,enrolled and like they have only two values and how they distributed "
   ]
  },
  {
   "cell_type": "markdown",
   "id": "f6c3c459",
   "metadata": {},
   "source": [
    "the histogram of 'dayofweek' shows on tuesday and wednesday slightly fewer customer registered the app \n",
    "'hour' shows the less customer register on the app areoung 10 am\n",
    "'age ' histogram show the maximum customer are younger people age btw 21-30\n",
    "'numscreens'' histogram show the few customer saw more then 40 screens"
   ]
  },
  {
   "cell_type": "code",
   "execution_count": 123,
   "id": "edca810c",
   "metadata": {},
   "outputs": [
    {
     "name": "stdout",
     "output_type": "stream",
     "text": [
      "0 dayofweek\n",
      "1 hour\n",
      "2 age\n",
      "3 numscreens\n",
      "4 minigame\n",
      "5 used_premium_feature\n",
      "6 enrolled\n",
      "7 liked\n"
     ]
    }
   ],
   "source": [
    "for i,j in enumerate(features):\n",
    "    print(i,j)"
   ]
  },
  {
   "cell_type": "code",
   "execution_count": null,
   "id": "f5625d47",
   "metadata": {},
   "outputs": [],
   "source": []
  },
  {
   "cell_type": "markdown",
   "id": "65e15216",
   "metadata": {},
   "source": [
    "# correlation bar plot with enrolled feature"
   ]
  },
  {
   "cell_type": "code",
   "execution_count": 127,
   "id": "e57e32de",
   "metadata": {},
   "outputs": [
    {
     "data": {
      "image/png": "[encoded data removed]",
      "text/plain": [
       "<Figure size 1400x500 with 1 Axes>"
      ]
     },
     "metadata": {},
     "output_type": "display_data"
    }
   ],
   "source": [
    "# show corelation barplot \n",
    " \n",
    "sns.set() \n",
    "# set background dark grid\n",
    "plt.figure(figsize = (14,5))\n",
    "\n",
    "plt.title(\"Correlation all features with 'enrolled' \", fontsize = 15)\n",
    "\n",
    "finTech_appData3 = finTech_appData2.drop(['enrolled'],axis=1)\n",
    "# drop 'enrolled' feature\n",
    "\n",
    "ax =sns.barplot(  finTech_appData3.columns,  finTech_appData3.corrwith(finTech_appData2.enrolled)) \n",
    "# plot barplot \n",
    "ax.tick_params(labelsize=10, labelrotation = 0, color =\"k\")\n",
    "# decorate x & y ticks font\n",
    "plt.show()"
   ]
  },
  {
   "cell_type": "code",
   "execution_count": 125,
   "id": "2f56788c",
   "metadata": {},
   "outputs": [
    {
     "ename": "SyntaxError",
     "evalue": "invalid syntax (655123936.py, line 1)",
     "output_type": "error",
     "traceback": [
      "\u001b[1;36m  Cell \u001b[1;32mIn [125], line 1\u001b[1;36m\u001b[0m\n\u001b[1;33m    We saw the heatmap correlation matrix but this was not showing correlation clearly but you can easily understand which feature is how much correlated with ‘enrolled’ feature using the above barplot.\u001b[0m\n\u001b[1;37m       ^\u001b[0m\n\u001b[1;31mSyntaxError\u001b[0m\u001b[1;31m:\u001b[0m invalid syntax\n"
     ]
    }
   ],
   "source": [
    "We saw the heatmap correlation matrix but this was not showing correlation clearly but you can easily understand which feature is how much correlated with ‘enrolled’ feature using the above barplot.\n",
    "\n",
    "The ‘numscreens’ and ‘minigame’ is strongly positively correlated with ‘enrolled’ feature than other feature.\n",
    "\n",
    "The ‘hour’, ‘age’ and ‘used_premium_feature’ are strongly negatively correlated with the ‘enrolled’ feature."
   ]
  },
  {
   "cell_type": "code",
   "execution_count": 128,
   "id": "a4963fd8",
   "metadata": {},
   "outputs": [
    {
     "data": {
      "text/plain": [
       "user                     int64\n",
       "first_open              object\n",
       "dayofweek                int64\n",
       "hour                     int32\n",
       "age                      int64\n",
       "screen_list             object\n",
       "numscreens               int64\n",
       "minigame                 int64\n",
       "used_premium_feature     int64\n",
       "enrolled                 int64\n",
       "enrolled_date           object\n",
       "liked                    int64\n",
       "dtype: object"
      ]
     },
     "execution_count": 128,
     "metadata": {},
     "output_type": "execute_result"
    }
   ],
   "source": [
    "\n",
    "finTech_appData.dtypes"
   ]
  },
  {
   "cell_type": "code",
   "execution_count": null,
   "id": "30472bd3",
   "metadata": {},
   "outputs": [],
   "source": [
    "#if the data type is not have been converted in datetime format then i would have use thi"
   ]
  },
  {
   "cell_type": "code",
   "execution_count": 129,
   "id": "882df9b4",
   "metadata": {},
   "outputs": [
    {
     "data": {
      "text/plain": [
       "user                             int64\n",
       "first_open              datetime64[ns]\n",
       "dayofweek                        int64\n",
       "hour                             int32\n",
       "age                              int64\n",
       "screen_list                     object\n",
       "numscreens                       int64\n",
       "minigame                         int64\n",
       "used_premium_feature             int64\n",
       "enrolled                         int64\n",
       "enrolled_date           datetime64[ns]\n",
       "liked                            int64\n",
       "dtype: object"
      ]
     },
     "execution_count": 129,
     "metadata": {},
     "output_type": "execute_result"
    }
   ],
   "source": [
    "finTech_appData['first_open'] =[parser.parse(i) for i in finTech_appData['first_open']]\n",
    " \n",
    "finTech_appData['enrolled_date'] =[parser.parse(i) if isinstance(i, str) else i for i in finTech_appData['enrolled_date']]\n",
    " \n",
    "finTech_appData.dtypes"
   ]
  },
  {
   "cell_type": "code",
   "execution_count": null,
   "id": "f78e9f51",
   "metadata": {},
   "outputs": [],
   "source": []
  },
  {
   "cell_type": "markdown",
   "id": "4ea578cc",
   "metadata": {},
   "source": [
    "We are finding how much time the customer takes to get enrolled in the premium feature app after registration. For that subtract ‘fineTech_appData.first_open’ from ‘fineTech_appData.enrolled_date’ and set data type as timedelta64 in hours."
   ]
  },
  {
   "cell_type": "code",
   "execution_count": 130,
   "id": "13d81389",
   "metadata": {
    "scrolled": true
   },
   "outputs": [],
   "source": [
    "\t\n",
    "finTech_appData['time_to_enrolled']  = (finTech_appData.enrolled_date - finTech_appData.first_open).astype('timedelta64[h]')\n"
   ]
  },
  {
   "cell_type": "code",
   "execution_count": 131,
   "id": "af60dc4e",
   "metadata": {},
   "outputs": [
    {
     "data": {
      "text/plain": [
       "(array([2.8195e+04, 1.0320e+03, 5.6700e+02, 4.2500e+02, 2.8800e+02,\n",
       "        1.7900e+02, 1.6500e+02, 9.7000e+01, 1.0400e+02, 2.2000e+01]),\n",
       " array([   0. ,  543.4, 1086.8, 1630.2, 2173.6, 2717. , 3260.4, 3803.8,\n",
       "        4347.2, 4890.6, 5434. ]),\n",
       " <BarContainer object of 10 artists>)"
      ]
     },
     "execution_count": 131,
     "metadata": {},
     "output_type": "execute_result"
    },
    {
     "data": {
      "image/png": "[encoded data removed]",
      "text/plain": [
       "<Figure size 640x480 with 1 Axes>"
      ]
     },
     "metadata": {},
     "output_type": "display_data"
    }
   ],
   "source": [
    "plt.hist(finTech_appData['time_to_enrolled'].dropna())"
   ]
  },
  {
   "cell_type": "code",
   "execution_count": 132,
   "id": "42d2e53e",
   "metadata": {},
   "outputs": [
    {
     "data": {
      "text/plain": [
       "(array([22793.,   755.,   707.,   288.,   347.,   210.,   187.,   212.,\n",
       "          135.,   194.]),\n",
       " array([  0.,  10.,  20.,  30.,  40.,  50.,  60.,  70.,  80.,  90., 100.]),\n",
       " <BarContainer object of 10 artists>)"
      ]
     },
     "execution_count": 132,
     "metadata": {},
     "output_type": "execute_result"
    },
    {
     "data": {
      "image/png": "[encoded data removed]",
      "text/plain": [
       "<Figure size 640x480 with 1 Axes>"
      ]
     },
     "metadata": {},
     "output_type": "display_data"
    }
   ],
   "source": [
    "plt.hist(finTech_appData['time_to_enrolled'].dropna(),range=(0,100))"
   ]
  },
  {
   "cell_type": "markdown",
   "id": "a6c94ea9",
   "metadata": {},
   "source": [
    "In the above histogram, we know the maximum customers have enrolled the app in 10 hours from the registration."
   ]
  },
  {
   "cell_type": "markdown",
   "id": "4a27b1b9",
   "metadata": {},
   "source": [
    "# Feature selection"
   ]
  },
  {
   "cell_type": "markdown",
   "id": "ee88d2fe",
   "metadata": {},
   "source": [
    "We are considering those customers have enrolled after 48 hours as 0"
   ]
  },
  {
   "cell_type": "code",
   "execution_count": 133,
   "id": "d29c944f",
   "metadata": {},
   "outputs": [],
   "source": [
    "finTech_appData.loc[finTech_appData.time_to_enrolled>48,'enrolled']=0"
   ]
  },
  {
   "cell_type": "code",
   "execution_count": 134,
   "id": "987e595a",
   "metadata": {},
   "outputs": [],
   "source": [
    "finTech_appData.drop(columns=['time_to_enrolled','enrolled_date','first_open'],inplace=True)"
   ]
  },
  {
   "cell_type": "code",
   "execution_count": 145,
   "id": "3cad3b3a",
   "metadata": {},
   "outputs": [
    {
     "data": {
      "text/html": [
       "<div>\n",
       "<style scoped>\n",
       "    .dataframe tbody tr th:only-of-type {\n",
       "        vertical-align: middle;\n",
       "    }\n",
       "\n",
       "    .dataframe tbody tr th {\n",
       "        vertical-align: top;\n",
       "    }\n",
       "\n",
       "    .dataframe thead th {\n",
       "        text-align: right;\n",
       "    }\n",
       "</style>\n",
       "<table border=\"1\" class=\"dataframe\">\n",
       "  <thead>\n",
       "    <tr style=\"text-align: right;\">\n",
       "      <th></th>\n",
       "      <th>user</th>\n",
       "      <th>dayofweek</th>\n",
       "      <th>hour</th>\n",
       "      <th>age</th>\n",
       "      <th>screen_list</th>\n",
       "      <th>numscreens</th>\n",
       "      <th>minigame</th>\n",
       "      <th>used_premium_feature</th>\n",
       "      <th>enrolled</th>\n",
       "      <th>liked</th>\n",
       "      <th>...</th>\n",
       "      <th>ProfileJobTitle</th>\n",
       "      <th>Login</th>\n",
       "      <th>ProfileEmploymentLength</th>\n",
       "      <th>WebView</th>\n",
       "      <th>SecurityModal</th>\n",
       "      <th>Loan4</th>\n",
       "      <th>ResendToken</th>\n",
       "      <th>TransactionList</th>\n",
       "      <th>NetworkFailure</th>\n",
       "      <th>ListPicker</th>\n",
       "    </tr>\n",
       "  </thead>\n",
       "  <tbody>\n",
       "    <tr>\n",
       "      <th>0</th>\n",
       "      <td>235136</td>\n",
       "      <td>3</td>\n",
       "      <td>2</td>\n",
       "      <td>23</td>\n",
       "      <td>joinscreen,product_review,ScanPreview,VerifyTo...</td>\n",
       "      <td>15</td>\n",
       "      <td>0</td>\n",
       "      <td>0</td>\n",
       "      <td>0</td>\n",
       "      <td>0</td>\n",
       "      <td>...</td>\n",
       "      <td>0</td>\n",
       "      <td>1</td>\n",
       "      <td>0</td>\n",
       "      <td>0</td>\n",
       "      <td>0</td>\n",
       "      <td>0</td>\n",
       "      <td>0</td>\n",
       "      <td>0</td>\n",
       "      <td>0</td>\n",
       "      <td>0</td>\n",
       "    </tr>\n",
       "    <tr>\n",
       "      <th>1</th>\n",
       "      <td>333588</td>\n",
       "      <td>6</td>\n",
       "      <td>1</td>\n",
       "      <td>24</td>\n",
       "      <td>joinscreen,product_review,product_review2,Scan...</td>\n",
       "      <td>13</td>\n",
       "      <td>0</td>\n",
       "      <td>0</td>\n",
       "      <td>0</td>\n",
       "      <td>0</td>\n",
       "      <td>...</td>\n",
       "      <td>0</td>\n",
       "      <td>0</td>\n",
       "      <td>0</td>\n",
       "      <td>0</td>\n",
       "      <td>0</td>\n",
       "      <td>0</td>\n",
       "      <td>0</td>\n",
       "      <td>0</td>\n",
       "      <td>0</td>\n",
       "      <td>0</td>\n",
       "    </tr>\n",
       "    <tr>\n",
       "      <th>2</th>\n",
       "      <td>254414</td>\n",
       "      <td>1</td>\n",
       "      <td>19</td>\n",
       "      <td>23</td>\n",
       "      <td>,</td>\n",
       "      <td>3</td>\n",
       "      <td>0</td>\n",
       "      <td>1</td>\n",
       "      <td>0</td>\n",
       "      <td>1</td>\n",
       "      <td>...</td>\n",
       "      <td>0</td>\n",
       "      <td>0</td>\n",
       "      <td>0</td>\n",
       "      <td>0</td>\n",
       "      <td>0</td>\n",
       "      <td>0</td>\n",
       "      <td>0</td>\n",
       "      <td>0</td>\n",
       "      <td>0</td>\n",
       "      <td>0</td>\n",
       "    </tr>\n",
       "    <tr>\n",
       "      <th>3</th>\n",
       "      <td>234192</td>\n",
       "      <td>4</td>\n",
       "      <td>16</td>\n",
       "      <td>28</td>\n",
       "      <td>product_review,Home,product_review,ReferralCon...</td>\n",
       "      <td>40</td>\n",
       "      <td>0</td>\n",
       "      <td>0</td>\n",
       "      <td>1</td>\n",
       "      <td>0</td>\n",
       "      <td>...</td>\n",
       "      <td>0</td>\n",
       "      <td>0</td>\n",
       "      <td>0</td>\n",
       "      <td>0</td>\n",
       "      <td>0</td>\n",
       "      <td>0</td>\n",
       "      <td>0</td>\n",
       "      <td>0</td>\n",
       "      <td>0</td>\n",
       "      <td>0</td>\n",
       "    </tr>\n",
       "    <tr>\n",
       "      <th>4</th>\n",
       "      <td>51549</td>\n",
       "      <td>1</td>\n",
       "      <td>18</td>\n",
       "      <td>31</td>\n",
       "      <td>joinscreen,ScanPreview,VerifySSN,Home,SelectIn...</td>\n",
       "      <td>32</td>\n",
       "      <td>0</td>\n",
       "      <td>0</td>\n",
       "      <td>1</td>\n",
       "      <td>1</td>\n",
       "      <td>...</td>\n",
       "      <td>0</td>\n",
       "      <td>0</td>\n",
       "      <td>0</td>\n",
       "      <td>0</td>\n",
       "      <td>0</td>\n",
       "      <td>0</td>\n",
       "      <td>0</td>\n",
       "      <td>0</td>\n",
       "      <td>0</td>\n",
       "      <td>0</td>\n",
       "    </tr>\n",
       "  </tbody>\n",
       "</table>\n",
       "<p>5 rows × 68 columns</p>\n",
       "</div>"
      ],
      "text/plain": [
       "     user  dayofweek  hour  age  \\\n",
       "0  235136          3     2   23   \n",
       "1  333588          6     1   24   \n",
       "2  254414          1    19   23   \n",
       "3  234192          4    16   28   \n",
       "4   51549          1    18   31   \n",
       "\n",
       "                                         screen_list  numscreens  minigame  \\\n",
       "0  joinscreen,product_review,ScanPreview,VerifyTo...          15         0   \n",
       "1  joinscreen,product_review,product_review2,Scan...          13         0   \n",
       "2                                                  ,           3         0   \n",
       "3  product_review,Home,product_review,ReferralCon...          40         0   \n",
       "4  joinscreen,ScanPreview,VerifySSN,Home,SelectIn...          32         0   \n",
       "\n",
       "   used_premium_feature  enrolled  liked  ...  ProfileJobTitle  Login  \\\n",
       "0                     0         0      0  ...                0      1   \n",
       "1                     0         0      0  ...                0      0   \n",
       "2                     1         0      1  ...                0      0   \n",
       "3                     0         1      0  ...                0      0   \n",
       "4                     0         1      1  ...                0      0   \n",
       "\n",
       "   ProfileEmploymentLength  WebView  SecurityModal  Loan4  ResendToken  \\\n",
       "0                        0        0              0      0            0   \n",
       "1                        0        0              0      0            0   \n",
       "2                        0        0              0      0            0   \n",
       "3                        0        0              0      0            0   \n",
       "4                        0        0              0      0            0   \n",
       "\n",
       "   TransactionList  NetworkFailure  ListPicker  \n",
       "0                0               0           0  \n",
       "1                0               0           0  \n",
       "2                0               0           0  \n",
       "3                0               0           0  \n",
       "4                0               0           0  \n",
       "\n",
       "[5 rows x 68 columns]"
      ]
     },
     "execution_count": 145,
     "metadata": {},
     "output_type": "execute_result"
    }
   ],
   "source": [
    "finTech_appData.head()"
   ]
  },
  {
   "cell_type": "code",
   "execution_count": 149,
   "id": "54d3400c",
   "metadata": {},
   "outputs": [
    {
     "data": {
      "text/html": [
       "<div>\n",
       "<style scoped>\n",
       "    .dataframe tbody tr th:only-of-type {\n",
       "        vertical-align: middle;\n",
       "    }\n",
       "\n",
       "    .dataframe tbody tr th {\n",
       "        vertical-align: top;\n",
       "    }\n",
       "\n",
       "    .dataframe thead th {\n",
       "        text-align: right;\n",
       "    }\n",
       "</style>\n",
       "<table border=\"1\" class=\"dataframe\">\n",
       "  <thead>\n",
       "    <tr style=\"text-align: right;\">\n",
       "      <th></th>\n",
       "      <th>Unnamed: 0</th>\n",
       "      <th>top_screens</th>\n",
       "    </tr>\n",
       "  </thead>\n",
       "  <tbody>\n",
       "    <tr>\n",
       "      <th>0</th>\n",
       "      <td>0</td>\n",
       "      <td>Loan2</td>\n",
       "    </tr>\n",
       "    <tr>\n",
       "      <th>1</th>\n",
       "      <td>1</td>\n",
       "      <td>location</td>\n",
       "    </tr>\n",
       "    <tr>\n",
       "      <th>2</th>\n",
       "      <td>2</td>\n",
       "      <td>Institutions</td>\n",
       "    </tr>\n",
       "    <tr>\n",
       "      <th>3</th>\n",
       "      <td>3</td>\n",
       "      <td>Credit3Container</td>\n",
       "    </tr>\n",
       "    <tr>\n",
       "      <th>4</th>\n",
       "      <td>4</td>\n",
       "      <td>VerifyPhone</td>\n",
       "    </tr>\n",
       "  </tbody>\n",
       "</table>\n",
       "</div>"
      ],
      "text/plain": [
       "   Unnamed: 0       top_screens\n",
       "0           0             Loan2\n",
       "1           1          location\n",
       "2           2      Institutions\n",
       "3           3  Credit3Container\n",
       "4           4       VerifyPhone"
      ]
     },
     "execution_count": 149,
     "metadata": {},
     "output_type": "execute_result"
    }
   ],
   "source": [
    "finTech_app_screen_Data=pd.read_csv(\"top_screens.csv\")\n",
    "finTech_app_screen_Data.head()"
   ]
  },
  {
   "cell_type": "markdown",
   "id": "a83c8e94",
   "metadata": {},
   "source": []
  },
  {
   "cell_type": "code",
   "execution_count": 147,
   "id": "ce85e4cb",
   "metadata": {},
   "outputs": [
    {
     "data": {
      "text/plain": [
       "array(['Loan2', 'location', 'Institutions', 'Credit3Container',\n",
       "       'VerifyPhone', 'BankVerification', 'VerifyDateOfBirth',\n",
       "       'ProfilePage', 'VerifyCountry', 'Cycle', 'idscreen',\n",
       "       'Credit3Dashboard', 'Loan3', 'CC1Category', 'Splash', 'Loan',\n",
       "       'CC1', 'RewardsContainer', 'Credit3', 'Credit1', 'EditProfile',\n",
       "       'Credit2', 'Finances', 'CC3', 'Saving9', 'Saving1', 'Alerts',\n",
       "       'Saving8', 'Saving10', 'Leaderboard', 'Saving4', 'VerifyMobile',\n",
       "       'VerifyHousing', 'RewardDetail', 'VerifyHousingAmount',\n",
       "       'ProfileMaritalStatus', 'ProfileChildren ', 'ProfileEducation',\n",
       "       'Saving7', 'ProfileEducationMajor', 'Rewards', 'AccountView',\n",
       "       'VerifyAnnualIncome', 'VerifyIncomeType', 'Saving2', 'Saving6',\n",
       "       'Saving2Amount', 'Saving5', 'ProfileJobTitle', 'Login',\n",
       "       'ProfileEmploymentLength', 'WebView', 'SecurityModal', 'Loan4',\n",
       "       'ResendToken', 'TransactionList', 'NetworkFailure', 'ListPicker'],\n",
       "      dtype=object)"
      ]
     },
     "execution_count": 147,
     "metadata": {},
     "output_type": "execute_result"
    }
   ],
   "source": [
    "finTech_app_screen_Data=pd.read_csv(\"top_screens.csv\").top_screens.values\n",
    "finTech_app_screen_Data"
   ]
  },
  {
   "cell_type": "code",
   "execution_count": null,
   "id": "5609a349",
   "metadata": {},
   "outputs": [],
   "source": []
  },
  {
   "cell_type": "code",
   "execution_count": 150,
   "id": "8d49a35c",
   "metadata": {},
   "outputs": [],
   "source": [
    "finTech_appData['screen_list'] = finTech_appData.screen_list.astype(str) + ','\n"
   ]
  },
  {
   "cell_type": "markdown",
   "id": "07d37f1a",
   "metadata": {},
   "source": [
    "The ‘Screen_list’ contains string values but we can’t use it directly. So to solve this problem we are taking each screen name from ‘fineTech_app_screen_Data’ and append as a column by the same name to ‘fineTech_appData’. Then check this screen name is available in ‘screen_list’ if it is available then add value 1 else 0 in the appended column."
   ]
  },
  {
   "cell_type": "code",
   "execution_count": 141,
   "id": "16e260fb",
   "metadata": {},
   "outputs": [],
   "source": [
    "# string into to number\n",
    " \n",
    "for screen_name in finTech_app_screen_Data:\n",
    "    finTech_appData[screen_name] = finTech_appData.screen_list.str.contains(screen_name).astype(int)\n",
    "    finTech_appData['screen_list'] = finTech_appData.screen_list.str.replace(screen_name+\",\", \"\")"
   ]
  },
  {
   "cell_type": "code",
   "execution_count": 151,
   "id": "7a1dc112",
   "metadata": {},
   "outputs": [
    {
     "data": {
      "text/plain": [
       "(50000, 68)"
      ]
     },
     "execution_count": 151,
     "metadata": {},
     "output_type": "execute_result"
    }
   ],
   "source": [
    "\n",
    "# get shape\n",
    "finTech_appData.shape"
   ]
  },
  {
   "cell_type": "code",
   "execution_count": 153,
   "id": "d8c6aaf4",
   "metadata": {},
   "outputs": [
    {
     "data": {
      "text/html": [
       "<div>\n",
       "<style scoped>\n",
       "    .dataframe tbody tr th:only-of-type {\n",
       "        vertical-align: middle;\n",
       "    }\n",
       "\n",
       "    .dataframe tbody tr th {\n",
       "        vertical-align: top;\n",
       "    }\n",
       "\n",
       "    .dataframe thead th {\n",
       "        text-align: right;\n",
       "    }\n",
       "</style>\n",
       "<table border=\"1\" class=\"dataframe\">\n",
       "  <thead>\n",
       "    <tr style=\"text-align: right;\">\n",
       "      <th></th>\n",
       "      <th>user</th>\n",
       "      <th>dayofweek</th>\n",
       "      <th>hour</th>\n",
       "      <th>age</th>\n",
       "      <th>screen_list</th>\n",
       "      <th>numscreens</th>\n",
       "      <th>minigame</th>\n",
       "      <th>used_premium_feature</th>\n",
       "      <th>enrolled</th>\n",
       "      <th>liked</th>\n",
       "      <th>...</th>\n",
       "      <th>ProfileJobTitle</th>\n",
       "      <th>Login</th>\n",
       "      <th>ProfileEmploymentLength</th>\n",
       "      <th>WebView</th>\n",
       "      <th>SecurityModal</th>\n",
       "      <th>Loan4</th>\n",
       "      <th>ResendToken</th>\n",
       "      <th>TransactionList</th>\n",
       "      <th>NetworkFailure</th>\n",
       "      <th>ListPicker</th>\n",
       "    </tr>\n",
       "  </thead>\n",
       "  <tbody>\n",
       "    <tr>\n",
       "      <th>0</th>\n",
       "      <td>235136</td>\n",
       "      <td>3</td>\n",
       "      <td>2</td>\n",
       "      <td>23</td>\n",
       "      <td>joinscreen,product_review,ScanPreview,VerifyTo...</td>\n",
       "      <td>15</td>\n",
       "      <td>0</td>\n",
       "      <td>0</td>\n",
       "      <td>0</td>\n",
       "      <td>0</td>\n",
       "      <td>...</td>\n",
       "      <td>0</td>\n",
       "      <td>1</td>\n",
       "      <td>0</td>\n",
       "      <td>0</td>\n",
       "      <td>0</td>\n",
       "      <td>0</td>\n",
       "      <td>0</td>\n",
       "      <td>0</td>\n",
       "      <td>0</td>\n",
       "      <td>0</td>\n",
       "    </tr>\n",
       "    <tr>\n",
       "      <th>1</th>\n",
       "      <td>333588</td>\n",
       "      <td>6</td>\n",
       "      <td>1</td>\n",
       "      <td>24</td>\n",
       "      <td>joinscreen,product_review,product_review2,Scan...</td>\n",
       "      <td>13</td>\n",
       "      <td>0</td>\n",
       "      <td>0</td>\n",
       "      <td>0</td>\n",
       "      <td>0</td>\n",
       "      <td>...</td>\n",
       "      <td>0</td>\n",
       "      <td>0</td>\n",
       "      <td>0</td>\n",
       "      <td>0</td>\n",
       "      <td>0</td>\n",
       "      <td>0</td>\n",
       "      <td>0</td>\n",
       "      <td>0</td>\n",
       "      <td>0</td>\n",
       "      <td>0</td>\n",
       "    </tr>\n",
       "    <tr>\n",
       "      <th>2</th>\n",
       "      <td>254414</td>\n",
       "      <td>1</td>\n",
       "      <td>19</td>\n",
       "      <td>23</td>\n",
       "      <td>,,,</td>\n",
       "      <td>3</td>\n",
       "      <td>0</td>\n",
       "      <td>1</td>\n",
       "      <td>0</td>\n",
       "      <td>1</td>\n",
       "      <td>...</td>\n",
       "      <td>0</td>\n",
       "      <td>0</td>\n",
       "      <td>0</td>\n",
       "      <td>0</td>\n",
       "      <td>0</td>\n",
       "      <td>0</td>\n",
       "      <td>0</td>\n",
       "      <td>0</td>\n",
       "      <td>0</td>\n",
       "      <td>0</td>\n",
       "    </tr>\n",
       "    <tr>\n",
       "      <th>3</th>\n",
       "      <td>234192</td>\n",
       "      <td>4</td>\n",
       "      <td>16</td>\n",
       "      <td>28</td>\n",
       "      <td>product_review,Home,product_review,ReferralCon...</td>\n",
       "      <td>40</td>\n",
       "      <td>0</td>\n",
       "      <td>0</td>\n",
       "      <td>1</td>\n",
       "      <td>0</td>\n",
       "      <td>...</td>\n",
       "      <td>0</td>\n",
       "      <td>0</td>\n",
       "      <td>0</td>\n",
       "      <td>0</td>\n",
       "      <td>0</td>\n",
       "      <td>0</td>\n",
       "      <td>0</td>\n",
       "      <td>0</td>\n",
       "      <td>0</td>\n",
       "      <td>0</td>\n",
       "    </tr>\n",
       "    <tr>\n",
       "      <th>4</th>\n",
       "      <td>51549</td>\n",
       "      <td>1</td>\n",
       "      <td>18</td>\n",
       "      <td>31</td>\n",
       "      <td>joinscreen,ScanPreview,VerifySSN,Home,SelectIn...</td>\n",
       "      <td>32</td>\n",
       "      <td>0</td>\n",
       "      <td>0</td>\n",
       "      <td>1</td>\n",
       "      <td>1</td>\n",
       "      <td>...</td>\n",
       "      <td>0</td>\n",
       "      <td>0</td>\n",
       "      <td>0</td>\n",
       "      <td>0</td>\n",
       "      <td>0</td>\n",
       "      <td>0</td>\n",
       "      <td>0</td>\n",
       "      <td>0</td>\n",
       "      <td>0</td>\n",
       "      <td>0</td>\n",
       "    </tr>\n",
       "    <tr>\n",
       "      <th>5</th>\n",
       "      <td>56480</td>\n",
       "      <td>2</td>\n",
       "      <td>9</td>\n",
       "      <td>20</td>\n",
       "      <td>Home,ScanPreview,VerifySSN,product_review,prod...</td>\n",
       "      <td>14</td>\n",
       "      <td>0</td>\n",
       "      <td>0</td>\n",
       "      <td>1</td>\n",
       "      <td>0</td>\n",
       "      <td>...</td>\n",
       "      <td>0</td>\n",
       "      <td>0</td>\n",
       "      <td>0</td>\n",
       "      <td>0</td>\n",
       "      <td>0</td>\n",
       "      <td>0</td>\n",
       "      <td>0</td>\n",
       "      <td>0</td>\n",
       "      <td>0</td>\n",
       "      <td>0</td>\n",
       "    </tr>\n",
       "  </tbody>\n",
       "</table>\n",
       "<p>6 rows × 68 columns</p>\n",
       "</div>"
      ],
      "text/plain": [
       "     user  dayofweek  hour  age  \\\n",
       "0  235136          3     2   23   \n",
       "1  333588          6     1   24   \n",
       "2  254414          1    19   23   \n",
       "3  234192          4    16   28   \n",
       "4   51549          1    18   31   \n",
       "5   56480          2     9   20   \n",
       "\n",
       "                                         screen_list  numscreens  minigame  \\\n",
       "0  joinscreen,product_review,ScanPreview,VerifyTo...          15         0   \n",
       "1  joinscreen,product_review,product_review2,Scan...          13         0   \n",
       "2                                                ,,,           3         0   \n",
       "3  product_review,Home,product_review,ReferralCon...          40         0   \n",
       "4  joinscreen,ScanPreview,VerifySSN,Home,SelectIn...          32         0   \n",
       "5  Home,ScanPreview,VerifySSN,product_review,prod...          14         0   \n",
       "\n",
       "   used_premium_feature  enrolled  liked  ...  ProfileJobTitle  Login  \\\n",
       "0                     0         0      0  ...                0      1   \n",
       "1                     0         0      0  ...                0      0   \n",
       "2                     1         0      1  ...                0      0   \n",
       "3                     0         1      0  ...                0      0   \n",
       "4                     0         1      1  ...                0      0   \n",
       "5                     0         1      0  ...                0      0   \n",
       "\n",
       "   ProfileEmploymentLength  WebView  SecurityModal  Loan4  ResendToken  \\\n",
       "0                        0        0              0      0            0   \n",
       "1                        0        0              0      0            0   \n",
       "2                        0        0              0      0            0   \n",
       "3                        0        0              0      0            0   \n",
       "4                        0        0              0      0            0   \n",
       "5                        0        0              0      0            0   \n",
       "\n",
       "   TransactionList  NetworkFailure  ListPicker  \n",
       "0                0               0           0  \n",
       "1                0               0           0  \n",
       "2                0               0           0  \n",
       "3                0               0           0  \n",
       "4                0               0           0  \n",
       "5                0               0           0  \n",
       "\n",
       "[6 rows x 68 columns]"
      ]
     },
     "execution_count": 153,
     "metadata": {},
     "output_type": "execute_result"
    }
   ],
   "source": [
    "# head of DataFrame\n",
    "finTech_appData.head(6)"
   ]
  },
  {
   "cell_type": "code",
   "execution_count": 155,
   "id": "6d5377db",
   "metadata": {},
   "outputs": [
    {
     "data": {
      "text/plain": [
       "'joinscreen,product_review,ScanPreview,VerifyToken,ProfileVerifySSN,Settings,ForgotPassword,,,,'"
      ]
     },
     "execution_count": 155,
     "metadata": {},
     "output_type": "execute_result"
    }
   ],
   "source": [
    "# remain screen in 'screen_list'\n",
    "finTech_appData.loc[0,'screen_list']"
   ]
  },
  {
   "cell_type": "code",
   "execution_count": 158,
   "id": "1250bdd3",
   "metadata": {},
   "outputs": [],
   "source": [
    "# count remain screen list and store counted number in 'remain_screen_list'\n",
    " \n",
    "finTech_appData['remain_screen_list'] = finTech_appData.screen_list.str.count(\",\")\n"
   ]
  },
  {
   "cell_type": "code",
   "execution_count": 160,
   "id": "4feb677e",
   "metadata": {},
   "outputs": [
    {
     "data": {
      "text/plain": [
       "Index(['user', 'dayofweek', 'hour', 'age', 'screen_list', 'numscreens',\n",
       "       'minigame', 'used_premium_feature', 'enrolled', 'liked', 'Loan2',\n",
       "       'location', 'Institutions', 'Credit3Container', 'VerifyPhone',\n",
       "       'BankVerification', 'VerifyDateOfBirth', 'ProfilePage', 'VerifyCountry',\n",
       "       'Cycle', 'idscreen', 'Credit3Dashboard', 'Loan3', 'CC1Category',\n",
       "       'Splash', 'Loan', 'CC1', 'RewardsContainer', 'Credit3', 'Credit1',\n",
       "       'EditProfile', 'Credit2', 'Finances', 'CC3', 'Saving9', 'Saving1',\n",
       "       'Alerts', 'Saving8', 'Saving10', 'Leaderboard', 'Saving4',\n",
       "       'VerifyMobile', 'VerifyHousing', 'RewardDetail', 'VerifyHousingAmount',\n",
       "       'ProfileMaritalStatus', 'ProfileChildren ', 'ProfileEducation',\n",
       "       'Saving7', 'ProfileEducationMajor', 'Rewards', 'AccountView',\n",
       "       'VerifyAnnualIncome', 'VerifyIncomeType', 'Saving2', 'Saving6',\n",
       "       'Saving2Amount', 'Saving5', 'ProfileJobTitle', 'Login',\n",
       "       'ProfileEmploymentLength', 'WebView', 'SecurityModal', 'Loan4',\n",
       "       'ResendToken', 'TransactionList', 'NetworkFailure', 'ListPicker',\n",
       "       'remain_screen_list'],\n",
       "      dtype='object')"
      ]
     },
     "execution_count": 160,
     "metadata": {},
     "output_type": "execute_result"
    }
   ],
   "source": [
    "\n",
    "# total columns\n",
    "finTech_appData.columns"
   ]
  }
 ],
 "metadata": {
  "kernelspec": {
   "display_name": "Python 3 (ipykernel)",
   "language": "python",
   "name": "python3"
  },
  "language_info": {
   "codemirror_mode": {
    "name": "ipython",
    "version": 3
   },
   "file_extension": ".py",
   "mimetype": "text/x-python",
   "name": "python",
   "nbconvert_exporter": "python",
   "pygments_lexer": "ipython3",
   "version": "3.9.7"
  }
 },
 "nbformat": 4,
 "nbformat_minor": 5
}
